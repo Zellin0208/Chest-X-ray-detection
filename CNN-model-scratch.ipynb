{
 "cells": [
  {
   "cell_type": "code",
   "execution_count": 1,
   "metadata": {},
   "outputs": [
    {
     "name": "stdout",
     "output_type": "stream",
     "text": [
      "Dependencies succesfully imported!\n",
      "1 Physical GPUs, 1 Logical GPUs\n"
     ]
    }
   ],
   "source": [
    "import os\n",
    "import tensorflow as tf\n",
    "from tensorflow import keras\n",
    "from keras import layers\n",
    "from keras.preprocessing.image import ImageDataGenerator\n",
    "\n",
    "print('Dependencies succesfully imported!')\n",
    "\n",
    "\"\"\"Checking gpu device\"\"\"\n",
    "gpus = tf.config.experimental.list_physical_devices('GPU')\n",
    "if gpus:\n",
    "  try:\n",
    "    # Currently, memory growth needs to be the same across GPUs\n",
    "    for gpu in gpus:\n",
    "      tf.config.experimental.set_memory_growth(gpu, True)\n",
    "    logical_gpus = tf.config.experimental.list_logical_devices('GPU')\n",
    "    print(len(gpus), \"Physical GPUs,\", len(logical_gpus), \"Logical GPUs\")\n",
    "  except RuntimeError as e:\n",
    "    # Memory growth must be set before GPUs have been initialized\n",
    "    print(e)\n"
   ]
  },
  {
   "cell_type": "code",
   "execution_count": 2,
   "metadata": {},
   "outputs": [
    {
     "name": "stdout",
     "output_type": "stream",
     "text": [
      "Found 5216 images belonging to 2 classes.\n",
      "Found 16 images belonging to 2 classes.\n",
      "Found 624 images belonging to 2 classes.\n"
     ]
    }
   ],
   "source": [
    "# getting filepath for each split\n",
    "train_path = r\"dataset/train\"\n",
    "val_path = r\"dataset/val\"\n",
    "test_path = r\"dataset/test\"\n",
    "\n",
    "seed = 42\n",
    "shuffle = True\n",
    "\n",
    "datagen = ImageDataGenerator(\n",
    "    rescale = 1/255.,\n",
    ")\n",
    "\n",
    "def augment_data(path, augmenter, batch_size = 32, target_size = (256,256), class_mode = 'binary'):\n",
    "    return augmenter.flow_from_directory(\n",
    "        directory = path,\n",
    "        batch_size = batch_size,\n",
    "        target_size = target_size,\n",
    "        class_mode = class_mode,\n",
    "        seed = seed,\n",
    "        shuffle = shuffle\n",
    "    )\n",
    "\n",
    "# import files using image_dataset_from_directory\n",
    "train = augment_data(train_path, augmenter = datagen)\n",
    "val = augment_data(val_path, augmenter = datagen)\n",
    "test = augment_data(test_path, augmenter = datagen)"
   ]
  },
  {
   "cell_type": "code",
   "execution_count": 3,
   "metadata": {},
   "outputs": [],
   "source": [
    "\"\"\"Creating CNNBlock\"\"\"\n",
    "class CNNBlock(layers.Layer):\n",
    "    def __init__(self, out_channels, kernel_size):\n",
    "        super(CNNBlock, self).__init__()\n",
    "        self.conv = layers.Conv2D(out_channels, kernel_size, padding = 'same', input_shape = (None, None, None, None))\n",
    "        self.batch_norm = layers.BatchNormalization()\n",
    "\n",
    "    \"\"\"Create function to run forward pass\"\"\"\n",
    "    \"\"\"CNN -> BatchNormalization -> ReLu\"\"\"\n",
    "    def call(self, input, training = False):\n",
    "        x = self.conv(input)\n",
    "        print(x.shape)\n",
    "        x = self.batch_norm(x, training = training)\n",
    "        x = tf.nn.relu(x)\n",
    "        return x"
   ]
  },
  {
   "cell_type": "code",
   "execution_count": 4,
   "metadata": {},
   "outputs": [],
   "source": [
    "model = keras.Sequential([\n",
    "    CNNBlock(32, 3),\n",
    "    CNNBlock(64, 3),\n",
    "    CNNBlock(128, 3),\n",
    "    layers.Flatten(),\n",
    "    layers.Dense(2)\n",
    "])\n",
    "model.compile(\n",
    "    optimizer = keras.optimizers.Adam(learning_rate = 1e-4),\n",
    "    loss = keras.losses.BinaryCrossentropy(),\n",
    "    metrics = ['accuracy']\n",
    ")"
   ]
  },
  {
   "cell_type": "code",
   "execution_count": 5,
   "metadata": {},
   "outputs": [
    {
     "name": "stdout",
     "output_type": "stream",
     "text": [
      "(32, 256, 256, 32)\n",
      "(32, 256, 256, 32)\n",
      "Epoch 1/10\n",
      "(None, None, None, 32)\n",
      "(None, None, None, 32)\n",
      "(None, None, None, 32)\n",
      "163/163 [==============================] - 101s 612ms/step - loss: 3.9404 - accuracy: 0.7410\n",
      "Epoch 2/10\n",
      "163/163 [==============================] - 97s 593ms/step - loss: 3.9205 - accuracy: 0.7400\n",
      "Epoch 3/10\n",
      "163/163 [==============================] - 98s 598ms/step - loss: 3.9205 - accuracy: 0.7402\n",
      "Epoch 4/10\n",
      "163/163 [==============================] - 95s 581ms/step - loss: 3.9205 - accuracy: 0.7400\n",
      "Epoch 5/10\n",
      "163/163 [==============================] - 94s 579ms/step - loss: 3.9205 - accuracy: 0.7404\n",
      "Epoch 6/10\n",
      "163/163 [==============================] - 118s 724ms/step - loss: 3.9205 - accuracy: 0.7400\n",
      "Epoch 7/10\n",
      "163/163 [==============================] - 205s 1s/step - loss: 3.9205 - accuracy: 0.7404\n",
      "Epoch 8/10\n",
      "163/163 [==============================] - 341s 2s/step - loss: 3.9205 - accuracy: 0.7402\n",
      "Epoch 9/10\n",
      "163/163 [==============================] - 226s 1s/step - loss: 3.9205 - accuracy: 0.7398\n",
      "Epoch 10/10\n",
      "163/163 [==============================] - 245s 2s/step - loss: 3.9205 - accuracy: 0.7402\n"
     ]
    }
   ],
   "source": [
    "history = model.fit(\n",
    "    train,\n",
    "    batch_size = 64,\n",
    "    epochs = 10,\n",
    ")"
   ]
  },
  {
   "cell_type": "code",
   "execution_count": null,
   "metadata": {},
   "outputs": [
    {
     "name": "stdout",
     "output_type": "stream",
     "text": [
      " 97/163 [================>.............] - ETA: 35s - loss: 10.3384 - accuracy: 0.7419"
     ]
    }
   ],
   "source": [
    "model.evaluate(train)"
   ]
  },
  {
   "cell_type": "code",
   "execution_count": null,
   "metadata": {},
   "outputs": [],
   "source": []
  }
 ],
 "metadata": {
  "kernelspec": {
   "display_name": "Python 3 (ipykernel)",
   "language": "python",
   "name": "python3"
  },
  "language_info": {
   "codemirror_mode": {
    "name": "ipython",
    "version": 3
   },
   "file_extension": ".py",
   "mimetype": "text/x-python",
   "name": "python",
   "nbconvert_exporter": "python",
   "pygments_lexer": "ipython3",
   "version": "3.9.16"
  }
 },
 "nbformat": 4,
 "nbformat_minor": 2
}
